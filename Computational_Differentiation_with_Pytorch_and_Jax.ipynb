{
  "nbformat": 4,
  "nbformat_minor": 0,
  "metadata": {
    "colab": {
      "provenance": []
    },
    "kernelspec": {
      "name": "python3",
      "display_name": "Python 3"
    },
    "language_info": {
      "name": "python"
    }
  },
  "cells": [
    {
      "cell_type": "markdown",
      "source": [
        "\n",
        "\n",
        "> A **derivative** captures the smallest absolute change of a function at a point. It is described by the tangent line, which locally mirrors the phenomenon and shows how it would change if it moved linearly in either direction. This requires the phenomenon to be functionally mappable to its surroundings. As the gap between points shrinks, the observed change converges to the true instantaneous rate of change. Expressing this process as a function allows us to obtain the rate of change at any point without redrawing tangents each time.\n",
        "That's why the derivate is a function because it can give you the change in at any particular point's direction so we don't have to be drawing tangent lines for each points to be estimating it all the time.  \n",
        "A **small change** refers to an absolute change in distance along the input axis. It does not necessarily attach to a strict fixed position, but instead represents the local stretch around the point under investigation. As this stretch becomes smaller, the change in the function’s output converges to the true instantaneous rate of change at that point.it’s about the size of the difference, not where the difference occurs.\n",
        "\n"
      ],
      "metadata": {
        "id": "HkGmO7Zsv9cZ"
      }
    },
    {
      "cell_type": "code",
      "execution_count": 2,
      "metadata": {
        "id": "--Qe-rAqv6fR"
      },
      "outputs": [],
      "source": [
        "import torch\n",
        "import numpy as np\n",
        "import matplotlib.pyplot as plt"
      ]
    },
    {
      "cell_type": "markdown",
      "source": [
        "# Power rule"
      ],
      "metadata": {
        "id": "KilnNM7b8Gx4"
      }
    },
    {
      "cell_type": "markdown",
      "source": [
        "You're designing a rocket launch sequence. The rocket's height follows H(t) = -16t² + 200t + 50 feet at time t seconds.  \n",
        "**Critical Questions:**\n",
        "\n",
        "1. How fast is the rocket moving at any moment?\n",
        "2. When does it reach maximum height?\n",
        "3. When does it hit the ground?  \n",
        "\n",
        "Equations:  \n",
        "Height: H(t) = -16t² + 200t + 50  \n",
        "Velocity: V(t) = H'(t) = -32t + 200  (derivative gives rate of change)  \n",
        "Acceleration: A(t) = V'(t) = -32  (second derivative)\n"
      ],
      "metadata": {
        "id": "tbgwSztzAGTG"
      }
    },
    {
      "cell_type": "code",
      "source": [
        "def rocket_launch_analysis():\n",
        "  \"rocket trajectory analysis\"\n",
        "  \"Height: H(t) = -16t² + 200t + 50\"\n",
        "  \"Velocity: V(t) = H'(t) = -32t + 200\"\n",
        "  \"Acceleration: A(t) = V'(t) = -32\"\n",
        "\n",
        "  def height_function(t):\n",
        "    return -16*t**(2) + 200*t + 50\n",
        "\n",
        "  def velcoity_function(t):\n",
        "    return -32*t + 200\n",
        "\n",
        "  def acceleration_function(t):\n",
        "    return -32\n",
        "\n",
        "  def compute_derivatives_pytorch(timepoint):\n",
        "    \"Compute h,v,a at specific time\"\n",
        "    t = torch.tensor(timepoint, dtype=torch.float32, requires_grad = True) # track all operations on the tensor so we can later differentiate with respect to it.\n",
        "    height = -16*t**(2) + 200*t + 50\n",
        "    v = torch.autograd.grad(height, t, create_graph=True)[0]\n",
        "    a = torch.autograd.grad(v, t, create_graph=True)[0]\n",
        "    return height.item(), v.item(), a.item()\n",
        "  test_times = [0,2.5, 5.0,6.25,10.0]\n",
        "  print(\"Time | Height | Vel(Comp) |\")\n",
        "  print(\"-\" * 50)\n",
        "\n",
        "  for t in test_times:\n",
        "    result = compute_derivatives_pytorch(t)\n",
        "    print (result)\n",
        "\n",
        "rocket_launch_analysis()"
      ],
      "metadata": {
        "colab": {
          "base_uri": "https://localhost:8080/"
        },
        "id": "reuOsTs__4SR",
        "outputId": "1658474d-f9dc-4955-bba4-fcae1114c448"
      },
      "execution_count": 3,
      "outputs": [
        {
          "output_type": "stream",
          "name": "stdout",
          "text": [
            "Time | Height | Vel(Comp) |\n",
            "--------------------------------------------------\n",
            "(50.0, 200.0, -32.0)\n",
            "(450.0, 120.0, -32.0)\n",
            "(650.0, 40.0, -32.0)\n",
            "(675.0, 0.0, -32.0)\n",
            "(450.0, -120.0, -32.0)\n"
          ]
        }
      ]
    },
    {
      "cell_type": "markdown",
      "source": [
        "requires_grad=True → tells PyTorch to track computations for differentiation.\n",
        "\n",
        ".backward() → computes derivative of a scalar w.r.t. inputs, and stores result in .grad.\n",
        "\n",
        "torch.autograd.grad() → computes derivative and returns it directly (cleaner for math, higher derivatives).\n",
        "\n",
        "create_graph=True → keeps the graph alive so you can differentiate again (second, third derivatives)."
      ],
      "metadata": {
        "id": "pUxsiXotD3fS"
      }
    },
    {
      "cell_type": "code",
      "source": [
        "import jax\n",
        "import jax.numpy as jnp\n",
        "\n",
        "def jax_rocket_launch_analysis():\n",
        "\n",
        "  #define function\n",
        "  def height(t):\n",
        "    return -16*t**(2) + 200*t + 50\n",
        "  # create derivative functions\n",
        "  v = jax.grad(height)\n",
        "  a = jax.grad(v)\n",
        "  test_points = jnp.array([0,2.5, 5.0,6.25,10.0])\n",
        "\n",
        "  #vectorized computations:\n",
        "  heights = jax.vmap(height)(test_points)\n",
        "  velocities = jax.vmap(v)(test_points)\n",
        "  accelerations = jax.vmap(a)(test_points)\n",
        "  print(\"JAX Results:\")\n",
        "  print(\"Time | Height | Velocity | Acceleration\")\n",
        "  print(\"-\" * 40)\n",
        "\n",
        "  for i, t in enumerate(test_points):\n",
        "    print(f\"{t:.2f} | {heights[i]:.2f} | {velocities[i]:.2f} | {accelerations[i]:.2f}\")\n",
        "\n",
        "jax_rocket_launch_analysis()\n",
        "\n"
      ],
      "metadata": {
        "colab": {
          "base_uri": "https://localhost:8080/"
        },
        "id": "7UFeE83xEUtt",
        "outputId": "7e5b6199-604f-4a85-8508-6495412e8335"
      },
      "execution_count": 4,
      "outputs": [
        {
          "output_type": "stream",
          "name": "stdout",
          "text": [
            "JAX Results:\n",
            "Time | Height | Velocity | Acceleration\n",
            "----------------------------------------\n",
            "0.00 | 50.00 | 200.00 | -32.00\n",
            "2.50 | 450.00 | 120.00 | -32.00\n",
            "5.00 | 650.00 | 40.00 | -32.00\n",
            "6.25 | 675.00 | 0.00 | -32.00\n",
            "10.00 | 450.00 | -120.00 | -32.00\n"
          ]
        }
      ]
    },
    {
      "cell_type": "markdown",
      "source": [
        "for velocity = jax.vmap(velocity)(test_point)  \n",
        "height is your function: def height(t): return -16*t**2 + 200*t + 50\n",
        "\n",
        "test_points is a vector/array of time values.\n",
        "\n",
        "jax.vmap(height) makes a new function that applies height to each element of the array in parallel.\n",
        "\n",
        "Then (test_points) calls it → you get an array of heights at all those times."
      ],
      "metadata": {
        "id": "RNOZkPW9JXdV"
      }
    },
    {
      "cell_type": "markdown",
      "source": [
        "PyTorch\n",
        "\n",
        "You usually work with tensors as variables (torch.tensor(...)).\n",
        "\n",
        "The function is written as tensor operations (H = -16*t**2 + ...).\n",
        "\n",
        "Derivatives come out as tensors too (torch.autograd.grad(...)).\n",
        "\n",
        "So both “inputs” and “outputs” of differentiation live in the tensor world.\n",
        "\n",
        "JAX\n",
        "\n",
        "You usually write pure Python functions (def f(x): return ...).\n",
        "\n",
        "Then you wrap them with jax.grad(f) or jax.jacfwd(f) etc. to create new functions that compute derivatives.\n",
        "\n",
        "When you call those derivative functions, they return values (often arrays) that act like normal Python variables."
      ],
      "metadata": {
        "id": "thSkK0iGHr8j"
      }
    },
    {
      "cell_type": "markdown",
      "source": [
        "The length l metres of a certain metal rod at temperature $θ^◦C$ is given by:  \n",
        " $l=1+0.00005θ+0.0000004θ^2$.  \n",
        "Determine\n",
        " the rate of change of length, in $mm/^◦C$, when the\n",
        " temperature is (a) $100^◦C$ and (b) $400^◦C$."
      ],
      "metadata": {
        "id": "bD9iTggID6U3"
      }
    },
    {
      "cell_type": "code",
      "source": [
        "# solving in pytorch:\n",
        "\n",
        "def rod_length_analysis():\n",
        "  \"determining the length of a metal rod per change in temperature\"\n",
        "  \"l = 1 + 0.00005*O +0.0000004*O**2\"\n",
        "\n",
        "  def compute_derivatives_pytorch(temp):\n",
        "    # compute length at a specific temperature\n",
        "    O = torch.tensor(temp, dtype=torch.float32, requires_grad=True) # create scalar variable tensor\n",
        "    funtion = 1 + (0.00005*O) + (0.0000004) *(O**2) # scalar variable goes into the graph\n",
        "    length = torch.autograd.grad(funtion, O, create_graph=True)[0] # function first, variable second, create graph should be true in case of anything\n",
        "    return length.item()\n",
        "\n",
        "  temp = [100, 400]\n",
        "\n",
        "  for t in temp:\n",
        "    result = compute_derivatives_pytorch(t)\n",
        "    print(f\"result for {t} degrees celsius: {result}\")\n",
        "\n",
        "rod_length_analysis()"
      ],
      "metadata": {
        "id": "LvThFJTaHwGc",
        "colab": {
          "base_uri": "https://localhost:8080/"
        },
        "outputId": "0f34c5ea-0fdd-4233-e186-9f93859c7950"
      },
      "execution_count": 5,
      "outputs": [
        {
          "output_type": "stream",
          "name": "stdout",
          "text": [
            "result for 100 degrees celsius: 0.00013000000035390258\n",
            "result for 400 degrees celsius: 0.0003699999942909926\n"
          ]
        }
      ]
    },
    {
      "cell_type": "code",
      "source": [
        "def jax_rod_length_analysis():\n",
        "  \"rod analysis in jax\"\n",
        "\n",
        "  # does matter where i create as long as i create variable and intialise it after the variable i am good.\n",
        "  def lenth_function(temp):\n",
        "    return 1 + (0.00005*temp) + (0.0000004) *(temp**2)\n",
        "\n",
        "  # creating derivative functions(auto complete tried to confuse me but remembered on my own)\n",
        "  length = jax.grad(lenth_function) # python has this thing where ot creates functions but doesn't add the parenthesis when in some functions\n",
        "  temp = jnp.array([100.0, 400.0])\n",
        "\n",
        "  new_length = jax.vmap(length)(temp) # derivative function goes in here\n",
        "\n",
        "  print(\"JAX Results:\")\n",
        "  print(\"Time | new_Length\")\n",
        "  print(\"-\" * 40)\n",
        "\n",
        "  for i, t in enumerate(temp):\n",
        "    print(f\"{t:.2f} | {new_length[i]:.7f}\")  # c\n",
        "\n",
        "jax_rod_length_analysis()\n"
      ],
      "metadata": {
        "colab": {
          "base_uri": "https://localhost:8080/"
        },
        "id": "92OmVYFyGu4S",
        "outputId": "bb28a852-ab0a-4c38-fee0-9ad059374f12"
      },
      "execution_count": 6,
      "outputs": [
        {
          "output_type": "stream",
          "name": "stdout",
          "text": [
            "JAX Results:\n",
            "Time | new_Length\n",
            "----------------------------------------\n",
            "100.00 | 0.0001300\n",
            "400.00 | 0.0003700\n"
          ]
        }
      ]
    },
    {
      "cell_type": "markdown",
      "source": [
        "**Product and Quotient rules** - Complex system analysis"
      ],
      "metadata": {
        "id": "7aLKqSZ7bYI_"
      }
    },
    {
      "cell_type": "markdown",
      "source": [
        "An AC circuit has voltage V(t) = 120sin(60πt) volts and current I(t) = 5cos(60πt) amperes. The instantaneous power is P(t) = V(t) × I(t).\n",
        "Check the instantaneous power at time point of 60 secs."
      ],
      "metadata": {
        "id": "_hMeRFWH1pLp"
      }
    },
    {
      "cell_type": "code",
      "source": [
        "def time_point_verification(timepoint):\n",
        "  t = torch.tensor(timepoint,dtype=torch.float64, requires_grad= True)\n",
        "  omega = 60* torch.pi\n",
        "  V = 120* torch.sin(omega * t)\n",
        "  I = 5 * torch.cos(omega * t)\n",
        "  P = V * I #raw equations in textbooks are essentially multiplying and in it's rawest form so U and v can be represented like this\n",
        "\n",
        "  P.backward()\n",
        "  d_p = t.grad.item()\n",
        "\n",
        "  return f\"The rate of change power at the time point {timepoint} is {d_p} volts and power is {P.item()}\"\n",
        "\n",
        "cycle =1/60\n",
        "timepoint = [0,cycle/8,cycle/4,cycle/2]\n",
        "\n",
        "for t in timepoint:\n",
        "  print(time_point_verification(t))\n"
      ],
      "metadata": {
        "id": "-BpFSKEfHaVy",
        "colab": {
          "base_uri": "https://localhost:8080/"
        },
        "outputId": "7c19a922-018a-4f6a-f4fb-e9cf39925e16"
      },
      "execution_count": 7,
      "outputs": [
        {
          "output_type": "stream",
          "name": "stdout",
          "text": [
            "The rate of change power at the time point 0 is 113097.33552923254 volts and power is 0.0\n",
            "The rate of change power at the time point 0.0020833333333333333 is 79971.89288685058 volts and power is 212.13203435596424\n",
            "The rate of change power at the time point 0.004166666666666667 is 2.1827872842550278e-11 volts and power is 300.0\n",
            "The rate of change power at the time point 0.008333333333333333 is -113097.33552923254 volts and power is 1.6996616692943938e-13\n"
          ]
        }
      ]
    },
    {
      "cell_type": "code",
      "source": [
        "def power_analysis_jax():\n",
        "  cycle =1/60\n",
        "  timepoint = [0,cycle/8,cycle/4,cycle/2]\n",
        "  omega = 60* torch.pi\n",
        "  t = jnp.array(timepoint) # had to remind myself here\n",
        "\n",
        "  def P(t):\n",
        "    return (120* jnp.sin(omega * t)) * (5 * jnp.cos(omega * t))\n",
        "\n",
        "  d_p = jax.grad(P)\n",
        "  result = jax.vmap(d_p)(t)\n",
        "\n",
        "  print(\"JAX Results:\")\n",
        "  print(\"Time | Power\")\n",
        "  print(\"-\" * 40)\n",
        "  for t in range (len(timepoint)):\n",
        "      print(f\"Time is {timepoint[t]} secs and power is {result[t]} volts\")\n",
        "\n",
        "power_analysis_jax()\n"
      ],
      "metadata": {
        "colab": {
          "base_uri": "https://localhost:8080/"
        },
        "id": "9btK4gw235WI",
        "outputId": "accd3b84-b07b-4e22-8de9-9c5634536029"
      },
      "execution_count": 8,
      "outputs": [
        {
          "output_type": "stream",
          "name": "stdout",
          "text": [
            "JAX Results:\n",
            "Time | Power\n",
            "----------------------------------------\n",
            "Time is 0 secs and power is 113097.3359375 volts\n",
            "Time is 0.0020833333333333333 secs and power is 79971.8828125 volts\n",
            "Time is 0.004166666666666667 secs and power is 0.0 volts\n",
            "Time is 0.008333333333333333 secs and power is -113097.3359375 volts\n"
          ]
        }
      ]
    },
    {
      "cell_type": "markdown",
      "source": [],
      "metadata": {
        "id": "BHVgHPc6dcMz"
      }
    },
    {
      "cell_type": "markdown",
      "source": [
        "# Chain rule ( Systems within systems)"
      ],
      "metadata": {
        "id": "nZIStCHo8MLp"
      }
    },
    {
      "cell_type": "markdown",
      "source": [
        "The Challenge:\n",
        "A chemical reactor's temperature depends on pressure: T(P) = 300 + 50√P Kelvin.  \n",
        "The pressure depends on time: P(t) = 4 + 2sin(0.1t) atmospheres.\n",
        "How fast is temperature changing at any moment?"
      ],
      "metadata": {
        "id": "R9ZyOlBt73HR"
      }
    },
    {
      "cell_type": "code",
      "source": [
        "def chemical_reactor_temperature_control(time):\n",
        "  t = torch.tensor(time, dtype = torch.float64, requires_grad = True)\n",
        "\n",
        "  power = 4 + (2 * torch.sin(0.1 * t))\n",
        "  T = 300 + (5 * (power ** 0.5))\n",
        "\n",
        "  T.backward() # reviewed this backward does not go into a variable\n",
        "\n",
        "  dT_dt = t.grad.item() # was correct but wasn't sure so looked it up.\n",
        "\n",
        "  return dT_dt\n",
        "time = [0, 15.7, 31.4, 47.1]\n",
        "for t in time:\n",
        "  print(f\"Time {t} has temp {chemical_reactor_temperature_control(t)}\")\n"
      ],
      "metadata": {
        "colab": {
          "base_uri": "https://localhost:8080/"
        },
        "id": "JbXyTym_dSEr",
        "outputId": "c9930e1a-dcd5-497f-8852-2b263c21954d"
      },
      "execution_count": 9,
      "outputs": [
        {
          "output_type": "stream",
          "name": "stdout",
          "text": [
            "Time 0 has temp 0.25\n",
            "Time 15.7 has temp 0.00016254951774366278\n",
            "Time 31.4 has temp -0.24990020166158386\n",
            "Time 47.1 has temp -0.0008446301065276936\n"
          ]
        }
      ]
    },
    {
      "cell_type": "code",
      "source": [
        "def jax_analysis_chemical_reactor(t):\n",
        "  time = jnp.array(t)\n",
        "  def function(time):\n",
        "    p = 4 + (2* jnp.sin(0.1 * time))\n",
        "    T = 300 + (5 * jnp.sqrt(p))\n",
        "    return T\n",
        "\n",
        "  dT_dt = jax.grad(function)\n",
        "  result = jax.vmap(dT_dt)(time)\n",
        "\n",
        "  for i in range(len(t)):\n",
        "    print(f\"Time {t[i]} has temp {result[i]: 6f}\")\n",
        "\n",
        "jax_analysis_chemical_reactor(time)"
      ],
      "metadata": {
        "colab": {
          "base_uri": "https://localhost:8080/"
        },
        "id": "Tgaciynr-ZfP",
        "outputId": "04b1a430-70be-4e47-f867-5bec1b0f54f6"
      },
      "execution_count": 10,
      "outputs": [
        {
          "output_type": "stream",
          "name": "stdout",
          "text": [
            "Time 0 has temp  0.250000\n",
            "Time 15.7 has temp  0.000163\n",
            "Time 31.4 has temp -0.249900\n",
            "Time 47.1 has temp -0.000845\n"
          ]
        }
      ]
    },
    {
      "cell_type": "markdown",
      "source": [
        "# Optimization : Finding the best solutions\n",
        "The Challenge:\n",
        "Design optimal wind turbine blades. Power output follows P(θ) = 1000sin(θ) - 50θ² + 100θ watts, where θ is the blade angle in radians (0 ≤ θ ≤ π/2)."
      ],
      "metadata": {
        "id": "PDIicYjNdjJ3"
      }
    },
    {
      "cell_type": "code",
      "source": [
        "from scipy.optimize import minimize_scalar, fsolve\n",
        "import numpy as np\n",
        "\n",
        "def wind_turbine_optimization():\n",
        "    \"\"\"\n",
        "    Wind Turbine Blade Angle Optimization\n",
        "    -------------------------------------\n",
        "\n",
        "    Objective:\n",
        "      Maximize the power output of a wind turbine as a function of blade pitch angle (theta).\n",
        "\n",
        "    Power Model:\n",
        "      P(theta) = 1000*sin(theta) - 500*(theta**2) + 100*theta\n",
        "\n",
        "      - The first term (1000*sin(theta)) models how aerodynamic lift increases with angle up to a point.\n",
        "      - The second term (-500*theta**2) penalizes excessive pitch angles that reduce efficiency.\n",
        "      - The third term (+100*theta) captures minor linear contributions (e.g., secondary aerodynamic effects).\n",
        "\n",
        "    Approach:\n",
        "      1. Define the power function and its first and second derivatives.\n",
        "      2. Use `fsolve` to locate critical points (where dP/dθ = 0).\n",
        "      3. Apply the second derivative test to classify them (maxima/minima).\n",
        "      4. Compare critical points with boundary points (0 and π/2 radians) to find the global optimum.\n",
        "    \"\"\"\n",
        "\n",
        "    # --- Step 1: Define the objective function ---\n",
        "    def power_function(theta):\n",
        "        \"\"\"Power as a function of blade angle theta (radians).\"\"\"\n",
        "        return 1000*np.sin(theta) - 500*(theta**2) + 100*theta\n",
        "\n",
        "    # --- Step 2: Define the first derivative dP/dθ ---\n",
        "    def power_deriv(theta):\n",
        "        \"\"\"First derivative of power with respect to theta.\"\"\"\n",
        "        return 1000*np.cos(theta) - 1000*theta + 100\n",
        "\n",
        "    # --- Step 3: Define the second derivative d²P/dθ² ---\n",
        "    def power_second_deriv(theta):\n",
        "        \"\"\"Second derivative of power, used for curvature and classification.\"\"\"\n",
        "        return -1000*np.sin(theta) - 1000\n",
        "\n",
        "    # --- Step 4: Find critical points where dP/dθ = 0 ---\n",
        "    critical_points = []\n",
        "    try:\n",
        "        # Initial guess = 1 rad (~57 degrees)\n",
        "        root_1 = fsolve(power_deriv, 1)[0]\n",
        "        # Only consider physically meaningful angles within 0 ≤ θ ≤ π/2\n",
        "        if 0 <= root_1 <= np.pi/2:\n",
        "            critical_points.append(root_1)\n",
        "    except Exception as e:\n",
        "        print(\"Root finding failed:\", e)\n",
        "\n",
        "    # --- Step 5: Evaluate power at critical points ---\n",
        "    for i, cp in enumerate(critical_points):\n",
        "        power_at_cp = power_function(cp)\n",
        "        print(f\"Critical point {i+1}: θ = {cp:.4f} rad\")\n",
        "        print(f\"P(θ_{i+1}) = {power_at_cp:.2f}\\n\")\n",
        "\n",
        "    # --- Step 6: Apply the second derivative test ---\n",
        "    print(\"Second Derivative Test:\\n\")\n",
        "    classified_points = []\n",
        "    for i, cp in enumerate(critical_points):\n",
        "        second_deriv = power_second_deriv(cp)\n",
        "        classification = \"Local Maximum\" if second_deriv < 0 else \"Local Minimum\"\n",
        "        classified_points.append({\n",
        "            \"angle\": cp,\n",
        "            \"power\": power_function(cp),\n",
        "            \"type\": classification\n",
        "        })\n",
        "\n",
        "    # --- Step 7: Evaluate boundary points (0 and π/2) ---\n",
        "    boundary_points = [\n",
        "        {\"angle\": 0, \"power\": power_function(0), \"type\": \"Left Boundary\"},\n",
        "        {\"angle\": np.pi/2, \"power\": power_function(np.pi/2), \"type\": \"Right Boundary\"}\n",
        "    ]\n",
        "\n",
        "    # --- Step 8: Compare all candidates to find global extrema ---\n",
        "    all_candidates = boundary_points + classified_points\n",
        "    global_max = max(all_candidates, key=lambda x: x[\"power\"])\n",
        "    global_min = min(all_candidates, key=lambda x: x[\"power\"])\n",
        "\n",
        "    # --- Step 9: Display results ---\n",
        "    print(f\"Global Maximum → {global_max['type']} at θ = {global_max['angle']:.4f} rad | Power = {global_max['power']:.2f}\")\n",
        "    print(f\"Global Minimum → {global_min['type']} at θ = {global_min['angle']:.4f} rad | Power = {global_min['power']:.2f}\")\n",
        "\n",
        "# Run optimization\n",
        "wind_turbine_optimization()\n"
      ],
      "metadata": {
        "colab": {
          "base_uri": "https://localhost:8080/"
        },
        "id": "h8eZkZXv_hf0",
        "outputId": "29fe3054-cda3-47c7-c0c6-2e2ce4bb011f"
      },
      "execution_count": 12,
      "outputs": [
        {
          "output_type": "stream",
          "name": "stdout",
          "text": [
            "Critical point 1: θ = 0.7981 rad\n",
            "P(θ_1) = 477.36\n",
            "\n",
            "Second Derivative Test:\n",
            "\n",
            "Global Maximum → Local Maximum at θ = 0.7981 rad | Power = 477.36\n",
            "Global Minimum → Right Boundary at θ = 1.5708 rad | Power = -76.62\n"
          ]
        }
      ]
    },
    {
      "cell_type": "markdown",
      "source": [
        "# Parametric Equations\n",
        "\n",
        "The Projectile Motion Problem\n",
        "A soccer player kicks a ball from ground level. The ball's path can be modeled using parametric equations where t represents time in seconds:  \n",
        "x(t) = 20t\n",
        "y(t) = 15t - 5t²  \n",
        "where x is the horizontal distance (in meters) and y is the height (in meters).\n",
        "\n",
        "Find the Following at Each Time Interval:  \n",
        "At t = 0 seconds (initial kick):  \n",
        "\n",
        " Position (x, y)  \n",
        " Velocity dx/dt and dy/dt  \n",
        " Slope of trajectory (dy/dx)  \n",
        " Angle of trajectory  \n",
        "\n",
        "At t = 0.5 seconds:  \n",
        "\n",
        " Position (x, y)  \n",
        " Velocity dx/dt and dy/dt  \n",
        " Slope of trajectory (dy/dx)  \n",
        "\n",
        "At t = 1 second:  \n",
        "\n",
        " Position (x, y)  \n",
        " Velocity dx/dt and dy/dt  \n",
        " Slope of trajectory (dy/dx)  \n",
        "\n",
        "At t = 1.5 seconds (maximum height):  \n",
        "\n",
        " Position (x, y)  \n",
        " Velocity dx/dt and dy/dt  \n",
        " Slope of trajectory (dy/dx)  \n",
        " Verify this is maximum height  \n",
        "\n",
        "At t = 3 seconds (landing):  \n",
        "\n",
        " Position (x, y)  \n",
        " Velocity dx/dt and dy/dt  \n",
        " Total range traveled  "
      ],
      "metadata": {
        "id": "50jFmWJV2U9S"
      }
    },
    {
      "cell_type": "code",
      "source": [
        "import torch\n",
        "\n",
        "def motion_problem(values):\n",
        "    \"\"\"\n",
        "    Simulating Particle Motion Using PyTorch Autograd\n",
        "    -------------------------------------------------\n",
        "\n",
        "    Given parametric equations of motion:\n",
        "        x(t) = 20t\n",
        "        y(t) = 15t - 5t²\n",
        "\n",
        "    This function computes:\n",
        "      - Position (x, y)\n",
        "      - Velocity components (dx/dt, dy/dt)\n",
        "      - Slope of the trajectory (dy/dx)\n",
        "      - Angle of motion (in degrees)\n",
        "\n",
        "    Args:\n",
        "        values (list or array): Time values (t) to evaluate.\n",
        "    \"\"\"\n",
        "\n",
        "    # --- Step 1: Create time tensor with autograd enabled ---\n",
        "    t = torch.tensor(values, dtype=torch.float64, requires_grad=True)\n",
        "\n",
        "    # --- Step 2: Define motion equations ---\n",
        "    x = 20 * t\n",
        "    y = 15 * t - 5 * (t ** 2)\n",
        "\n",
        "    # --- Step 3: Compute velocity components ---\n",
        "    d_y = torch.autograd.grad(\n",
        "        y, t, grad_outputs=torch.ones_like(y), create_graph=True\n",
        "    )[0]\n",
        "\n",
        "    d_x = torch.autograd.grad(\n",
        "        x, t, grad_outputs=torch.ones_like(x), create_graph=True\n",
        "    )[0]\n",
        "\n",
        "    # --- Step 4: Compute slope and trajectory angle (radians → degrees) ---\n",
        "    slope = d_y / d_x\n",
        "    angle_radians = torch.atan(slope)\n",
        "    angle_degrees = angle_radians * (180 / torch.pi)\n",
        "\n",
        "    # --- Step 5: Display results ---\n",
        "    for i in range(len(values)):\n",
        "        print(f\"\\nAt t = {values[i]} s:\")\n",
        "        print(f\"  Position (x, y): ({x[i].item():.2f}, {y[i].item():.2f})\")\n",
        "        print(f\"  Velocity (dx/dt, dy/dt): ({d_x[i].item():.2f}, {d_y[i].item():.2f})\")\n",
        "        print(f\"  Slope of trajectory (dy/dx): {slope[i].item():.2f}\")\n",
        "        print(f\"  Angle of motion: {angle_degrees[i].item():.2f}°\")\n",
        "\n",
        "# --- Test Case ---\n",
        "timepoints = [0, 0.5, 1, 1.5, 3]\n",
        "motion_problem(timepoints)\n"
      ],
      "metadata": {
        "colab": {
          "base_uri": "https://localhost:8080/"
        },
        "id": "cDU4epEOZt1G",
        "outputId": "096253ac-67c4-4cd1-c217-ec4e468d2d60"
      },
      "execution_count": 14,
      "outputs": [
        {
          "output_type": "stream",
          "name": "stdout",
          "text": [
            "\n",
            "At t = 0 s:\n",
            "  Position (x, y): (0.00, 0.00)\n",
            "  Velocity (dx/dt, dy/dt): (20.00, 15.00)\n",
            "  Slope of trajectory (dy/dx): 0.75\n",
            "  Angle of motion: 36.87°\n",
            "\n",
            "At t = 0.5 s:\n",
            "  Position (x, y): (10.00, 6.25)\n",
            "  Velocity (dx/dt, dy/dt): (20.00, 10.00)\n",
            "  Slope of trajectory (dy/dx): 0.50\n",
            "  Angle of motion: 26.57°\n",
            "\n",
            "At t = 1 s:\n",
            "  Position (x, y): (20.00, 10.00)\n",
            "  Velocity (dx/dt, dy/dt): (20.00, 5.00)\n",
            "  Slope of trajectory (dy/dx): 0.25\n",
            "  Angle of motion: 14.04°\n",
            "\n",
            "At t = 1.5 s:\n",
            "  Position (x, y): (30.00, 11.25)\n",
            "  Velocity (dx/dt, dy/dt): (20.00, 0.00)\n",
            "  Slope of trajectory (dy/dx): 0.00\n",
            "  Angle of motion: 0.00°\n",
            "\n",
            "At t = 3 s:\n",
            "  Position (x, y): (60.00, 0.00)\n",
            "  Velocity (dx/dt, dy/dt): (20.00, -15.00)\n",
            "  Slope of trajectory (dy/dx): -0.75\n",
            "  Angle of motion: -36.87°\n"
          ]
        }
      ]
    },
    {
      "cell_type": "code",
      "source": [
        "import jax\n",
        "import jax.numpy as jnp\n",
        "\n",
        "def motion_problem_jax(values):\n",
        "    \"\"\"\n",
        "    Simulating Particle Motion Using JAX Automatic Differentiation\n",
        "    --------------------------------------------------------------\n",
        "    Given the parametric equations of motion:\n",
        "        x(t) = 20t\n",
        "        y(t) = 15t - 5t²\n",
        "\n",
        "    This function computes:\n",
        "      - Position (x, y)\n",
        "      - Velocity components (dx/dt, dy/dt)\n",
        "      - Slope of trajectory (dy/dx)\n",
        "      - Instantaneous angle of motion (degrees)\n",
        "\n",
        "    Args:\n",
        "        values (list or array): Time values (t) to evaluate.\n",
        "\n",
        "    Uses:\n",
        "        JAX automatic differentiation (`jax.grad`)\n",
        "        + vectorized mapping (`jax.vmap`) for batch evaluation.\n",
        "    \"\"\"\n",
        "\n",
        "    # --- Step 1: Convert time samples into JAX array ---\n",
        "    t = jnp.array(values)\n",
        "\n",
        "    # --- Step 2: Define motion equations ---\n",
        "    def x(t): return 20 * t\n",
        "    def y(t): return 15 * t - 5 * (t ** 2)\n",
        "\n",
        "    # --- Step 3: Define symbolic derivatives ---\n",
        "    # jax.grad constructs differentiable functions of t\n",
        "    d_x = jax.grad(x)\n",
        "    d_y = jax.grad(y)\n",
        "\n",
        "    # --- Step 4: Vectorize derivative evaluation over all t values ---\n",
        "    dx = jax.vmap(d_x)(t)\n",
        "    dy = jax.vmap(d_y)(t)\n",
        "\n",
        "    # --- Step 5: Compute slope and trajectory angle ---\n",
        "    slope = dy / dx\n",
        "    angle_rad = jnp.arctan(slope)\n",
        "    angle_deg = angle_rad * (180 / jnp.pi)\n",
        "\n",
        "    # --- Step 6: Display results ---\n",
        "    for i in range(len(values)):\n",
        "        print(f\"\\nAt t = {values[i]} s:\")\n",
        "        print(f\"  Position (x, y): ({x(t[i]):.2f}, {y(t[i]):.2f})\")\n",
        "        print(f\"  Velocity (dx/dt, dy/dt): ({dx[i]:.2f}, {dy[i]:.2f})\")\n",
        "        print(f\"  Slope of trajectory (dy/dx): {slope[i]:.2f}\")\n",
        "        print(f\"  Angle of motion: {angle_deg[i]:.2f}°\")\n",
        "\n",
        "# --- Test Case ---\n",
        "timepoints = [0.0, 0.5, 1.0, 1.5, 3.0]\n",
        "motion_problem_jax(timepoints)\n"
      ],
      "metadata": {
        "colab": {
          "base_uri": "https://localhost:8080/"
        },
        "id": "b1LoxTtzfcX8",
        "outputId": "824f4c48-67d2-49ab-b33a-269277ec85ff"
      },
      "execution_count": 15,
      "outputs": [
        {
          "output_type": "stream",
          "name": "stdout",
          "text": [
            "\n",
            "At t = 0.0 s:\n",
            "  Position (x, y): (0.00, 0.00)\n",
            "  Velocity (dx/dt, dy/dt): (20.00, 15.00)\n",
            "  Slope of trajectory (dy/dx): 0.75\n",
            "  Angle of motion: 36.87°\n",
            "\n",
            "At t = 0.5 s:\n",
            "  Position (x, y): (10.00, 6.25)\n",
            "  Velocity (dx/dt, dy/dt): (20.00, 10.00)\n",
            "  Slope of trajectory (dy/dx): 0.50\n",
            "  Angle of motion: 26.57°\n",
            "\n",
            "At t = 1.0 s:\n",
            "  Position (x, y): (20.00, 10.00)\n",
            "  Velocity (dx/dt, dy/dt): (20.00, 5.00)\n",
            "  Slope of trajectory (dy/dx): 0.25\n",
            "  Angle of motion: 14.04°\n",
            "\n",
            "At t = 1.5 s:\n",
            "  Position (x, y): (30.00, 11.25)\n",
            "  Velocity (dx/dt, dy/dt): (20.00, 0.00)\n",
            "  Slope of trajectory (dy/dx): 0.00\n",
            "  Angle of motion: 0.00°\n",
            "\n",
            "At t = 3.0 s:\n",
            "  Position (x, y): (60.00, 0.00)\n",
            "  Velocity (dx/dt, dy/dt): (20.00, -15.00)\n",
            "  Slope of trajectory (dy/dx): -0.75\n",
            "  Angle of motion: -36.87°\n"
          ]
        }
      ]
    },
    {
      "cell_type": "markdown",
      "source": [
        "# Implicit Differentiation"
      ],
      "metadata": {
        "id": "5qZklsw52Zef"
      }
    },
    {
      "cell_type": "markdown",
      "source": [
        "# 🛰️ Problem 7 – Drone Flight Path Derivative\n",
        "\n",
        "### Real-World Context\n",
        "A **drone** is flying in a **perfect circular path** around a **radio tower**.  \n",
        "The equation describing the drone’s path is:\n",
        "\n",
        "$$x^2 + y^2 = 25$$\n",
        "\n",
        "where:\n",
        "- $x$ and $y$ are the drone’s horizontal coordinates (in meters),\n",
        "- The tower is at the origin $(0, 0)$,\n",
        "- The circle has a **radius of 5 m**.\n",
        "\n",
        "---\n",
        "\n",
        "### 🎯 Objective\n",
        "Find the value of:\n",
        "\n",
        "$$\\frac{dy}{dx}$$\n",
        "\n",
        "when $x = 4$.\n",
        "\n",
        "---\n",
        "\n",
        "### 🧩 Interpretation\n",
        "$\\frac{dy}{dx}$ represents the **instantaneous slope** of the drone’s path —  \n",
        "how steeply its vertical position $y$ changes relative to its horizontal position $x$.  \n",
        "At $x = 4$, we’ll determine whether the drone is **ascending or descending**,  \n",
        "and **how sharply** along its circular trajectory.\n",
        "\n",
        "---\n",
        "\n",
        "### 🧮 Mathematical Setup\n",
        "Start with the implicit equation:\n",
        "\n",
        "$$x^2 + y^2 = 25$$\n",
        "\n",
        "Differentiate both sides with respect to $x$:\n",
        "\n",
        "$$2x + 2y\\frac{dy}{dx} = 0$$\n",
        "\n",
        "Solve for $\\frac{dy}{dx}$:\n",
        "\n",
        "$$\\frac{dy}{dx} = -\\frac{x}{y}$$\n",
        "\n",
        "At $x = 4$, find $y$ from the circle equation:\n",
        "\n",
        "$$4^2 + y^2 = 25 \\;\\Rightarrow\\; y = \\pm 3$$\n",
        "\n",
        "Therefore,\n",
        "\n",
        "$$\\frac{dy}{dx} = -\\frac{4}{3} \\quad \\text{(when } y = +3, \\text{moving downward)}$$  \n",
        "$$\\frac{dy}{dx} = \\frac{4}{3} \\quad \\text{(when } y = -3, \\text{moving upward)}$$\n",
        "\n",
        "---\n",
        "\n",
        "### ⚙️ Implementation Plan (for JAX / PyTorch)\n",
        "We’ll model this using **automatic differentiation**.\n",
        "\n",
        "1. Define the implicit function  \n",
        "   $$f(x, y) = x^2 + y^2 − 25 = 0$$\n",
        "2. Compute partial derivatives  \n",
        "   $$f_x = \\frac{\\partial f}{\\partial x}, \\quad f_y = \\frac{\\partial f}{\\partial y}$$\n",
        "3. Apply the implicit differentiation formula  \n",
        "   $$\\frac{dy}{dx} = -\\,\\frac{f_x}{f_y}$$\n",
        "4. Evaluate this for $(x, y) = (4, 3)$ and $(4, −3)$.\n",
        "\n",
        "---\n",
        "\n",
        "### 🚀 Real-World Meaning\n",
        "This gives the **slope of the drone’s flight direction** at each point:\n",
        "\n",
        "- When $y = 3$: the drone is **descending**.  \n",
        "- When $y = −3$: the drone is **ascending**.\n",
        "\n",
        "You can visualize this by plotting the circular path  \n",
        "and drawing tangent lines at those two points to show the **direction of motion**.\n"
      ],
      "metadata": {
        "id": "EgfoEBnd5Uss"
      }
    },
    {
      "cell_type": "code",
      "source": [
        "import torch\n",
        "\n",
        "def drone_flight_path():\n",
        "    \"\"\"\n",
        "    Drone Flight Path Analysis using PyTorch Autograd\n",
        "    -------------------------------------------------\n",
        "    The drone follows a circular path defined implicitly by:\n",
        "        x² + y² = 25   →   y = sqrt(25 - x²)\n",
        "\n",
        "    This function computes dy/dx at a given x-position using automatic differentiation.\n",
        "    The derivative indicates the slope of the drone's trajectory:\n",
        "        - Negative dy/dx → descending (downward path)\n",
        "        - Positive dy/dx → ascending (upward path)\n",
        "    \"\"\"\n",
        "\n",
        "    # --- Step 1: Define position along x-axis ---\n",
        "    x = torch.tensor(4.0, dtype=torch.float64, requires_grad=True)  # Drone at x = 4 m\n",
        "\n",
        "    # --- Step 2: Define y implicitly from the circle equation ---\n",
        "    y = torch.sqrt(25 - x**2)  # Circle of radius 5 m\n",
        "\n",
        "    # --- Step 3: Compute dy/dx using PyTorch autograd ---\n",
        "    dy_dx = torch.autograd.grad(y, x, create_graph=True)[0]\n",
        "\n",
        "    # --- Step 4: Interpret result ---\n",
        "    print(f\"At x = {x.item()} m, dy/dx = {dy_dx.item():.3f}\")\n",
        "    print(f\"  → The drone is descending at a slope of {dy_dx.item():.3f} m/m.\")\n",
        "    print(f\"  → The corresponding ascending slope (on the upper path) is {-dy_dx.item():.3f} m/m.\")\n",
        "\n",
        "# --- Run the simulation ---\n",
        "drone_flight_path()\n"
      ],
      "metadata": {
        "id": "nHi6s7740GXy",
        "colab": {
          "base_uri": "https://localhost:8080/"
        },
        "outputId": "d189027c-1014-4d00-d11c-1d70a4dfe189"
      },
      "execution_count": 24,
      "outputs": [
        {
          "output_type": "stream",
          "name": "stdout",
          "text": [
            "At x = 4.0 m, dy/dx = -1.333\n",
            "  → The drone is descending at a slope of -1.333 m/m.\n",
            "  → The corresponding ascending slope (on the upper path) is 1.333 m/m.\n"
          ]
        }
      ]
    },
    {
      "cell_type": "code",
      "source": [
        "import jax\n",
        "import jax.numpy as jnp\n",
        "\n",
        "def drone_flight_path_jax():\n",
        "    \"\"\"\n",
        "    Drone Flight Path Analysis using JAX Autograd\n",
        "    ---------------------------------------------\n",
        "    The drone follows a circular path defined by:\n",
        "        x² + y² = 25  →  y = sqrt(25 - x²)\n",
        "\n",
        "    This function computes dy/dx at specific x-positions using JAX's automatic differentiation.\n",
        "    The derivative tells us the slope of the trajectory:\n",
        "        - Negative slope → descending motion\n",
        "        - Positive slope → ascending motion\n",
        "    \"\"\"\n",
        "\n",
        "    # --- Step 1: Define x-coordinate(s) where we analyze the slope ---\n",
        "    x = jnp.array([4.0])  # Drone position along the x-axis (in meters)\n",
        "\n",
        "    # --- Step 2: Define y(x) from the implicit circle equation ---\n",
        "    def y(x):\n",
        "        return jnp.sqrt(25 - x**2)  # Circle of radius 5 m\n",
        "\n",
        "    # --- Step 3: Differentiate y(x) with respect to x using JAX autograd ---\n",
        "    dy_dx_func = jax.grad(y)\n",
        "\n",
        "    # --- Step 4: Apply vectorized mapping for multiple points (even though we have one here) ---\n",
        "    dy_dx = jax.vmap(dy_dx_func)(x)\n",
        "\n",
        "    # --- Step 5: Interpret the result ---\n",
        "    for i, slope in enumerate(dy_dx):\n",
        "        print(f\"At x = {x[i]:.2f} m:\")\n",
        "        print(f\"  dy/dx = {slope:.3f} → Drone is descending at this slope.\")\n",
        "        print(f\"  {-slope:.3f} → Corresponds to the mirrored (ascending) path.\\n\")\n",
        "\n",
        "# --- Run the simulation ---\n",
        "drone_flight_path_jax()\n"
      ],
      "metadata": {
        "colab": {
          "base_uri": "https://localhost:8080/"
        },
        "id": "ZIHGdcXJB-Bp",
        "outputId": "4e3a01a3-ad97-42a1-9994-d204ddcf061f"
      },
      "execution_count": 25,
      "outputs": [
        {
          "output_type": "stream",
          "name": "stdout",
          "text": [
            "At x = 4.00 m:\n",
            "  dy/dx = -1.333 → Drone is descending at this slope.\n",
            "  1.333 → Corresponds to the mirrored (ascending) path.\n",
            "\n"
          ]
        }
      ]
    },
    {
      "cell_type": "code",
      "source": [],
      "metadata": {
        "id": "VhZLc7QyC0xi"
      },
      "execution_count": null,
      "outputs": []
    }
  ]
}